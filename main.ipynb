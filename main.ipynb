{
 "cells": [
  {
   "cell_type": "markdown",
   "id": "68acc700-60ad-446f-9bf4-555da8f1418a",
   "metadata": {},
   "source": [
    "# Importing Required Libraries\n",
    "\n",
    "In the cell below we are going to import neccessary libraries\n",
    "\n",
    "- `os`: To handle file and directory operations like listing files.\n",
    "- `cv2`: OpenCV library for image loading and preprocessing.\n",
    "- `numpy`: For handling arrays, matrices, and numerical operations.\n",
    "- `tensorflow`: For building, training, and evaluating the CNN model.\n",
    "- `matplotlib.pyplot`: For visualizing results with plots."
   ]
  },
  {
   "cell_type": "code",
   "execution_count": 33,
   "id": "7896df0f-80c7-46e3-aea0-9b4db8e99aa2",
   "metadata": {},
   "outputs": [],
   "source": [
    "# IMPORTS\n",
    "import os\n",
    "import cv2\n",
    "import numpy as np\n",
    "import tensorflow as tf\n",
    "import matplotlib.pyplot as plt"
   ]
  },
  {
   "cell_type": "markdown",
   "id": "800ba031-13a7-41b1-b7b3-2fb48635e63d",
   "metadata": {},
   "source": [
    "# Define Constants\n",
    "\n",
    "Defining constants below\n",
    "\n",
    "- `IMG_SIZE`: The size to which each image will be resized.\n",
    "- `IMAGE_DIR`: Path to the directory containing the images.\n",
    "- `LABEL_DIR`: Path to the directory containing the label files.\n"
   ]
  },
  {
   "cell_type": "code",
   "execution_count": null,
   "id": "c9cea419-b433-4c7a-8a29-881e7c0b8139",
   "metadata": {},
   "outputs": [],
   "source": [
    "# Constants\n",
    "IMG_SIZE = (224, 224)\n",
    "IMAGE_DIR = '/TomatoPlantfactoryDataset/images'  # Update with your images folder\n",
    "LABEL_DIR = '/TomatoPlantfactoryDataset/labels'  # Update with your labels folder"
   ]
  },
  {
   "cell_type": "markdown",
   "id": "6f8ea255-e967-40d2-a57e-8e90bb481598",
   "metadata": {},
   "source": [
    "# Image Preprocessing Function\n",
    "\n",
    "This function is responsible for preprocessing each image before feeding it into the CNN model. The preprocessing steps include:\n",
    "\n",
    "1. **Resizing** the image to a uniform size defined by `IMG_SIZE`.\n",
    "2. **Normalization** of pixel values to the range [0, 1] by dividing by 255.\n"
   ]
  },
  {
   "cell_type": "code",
   "execution_count": 35,
   "id": "618df53e-e8b1-4693-a8be-42c8d5f3eed3",
   "metadata": {},
   "outputs": [],
   "source": [
    "# Image preprocessing function\n",
    "def preprocessing_image(image):\n",
    "    image = cv2.resize(image, IMG_SIZE)\n",
    "    image = image / 255.0  # Normalize the image to [0, 1]\n",
    "    return image"
   ]
  },
  {
   "cell_type": "markdown",
   "id": "8b32cf1f-3b9f-46a3-b2df-2058a5c1bf56",
   "metadata": {},
   "source": [
    "# Load Images and Labels\n",
    "\n",
    "This function loads both images and their corresponding labels. It processes each image and extracts the tomato count from the label file. \n",
    "\n",
    "The function works as follows:\n",
    "1. **Image Loading**: It loops through each image file in the `image_dir`, reads the image, preprocesses it, and appends it to the `images` list.\n",
    "2. **Label Loading**: For each image, it tries to find a corresponding label file (with the same name but `.txt` extension). It counts the number of non-empty lines in the label file as the tomato count and appends it to the `labels` list.\n",
    "\n",
    "The output of this function is two arrays: one containing the preprocessed images and another containing the corresponding labels (tomato counts)."
   ]
  },
  {
   "cell_type": "code",
   "execution_count": 36,
   "id": "7e3de0b8-55a2-41ee-9847-2d4188011f98",
   "metadata": {},
   "outputs": [
    {
     "name": "stdout",
     "output_type": "stream",
     "text": [
      "Loaded images shape: (520, 224, 224, 3)\n",
      "Loaded labels (tomato counts) shape: (520,)\n"
     ]
    }
   ],
   "source": [
    "# Load images and labels\n",
    "def load_images_and_labels(image_dir, label_dir):\n",
    "    images = []\n",
    "    labels = []\n",
    "\n",
    "    for filename in os.listdir(image_dir):\n",
    "        if filename.endswith('.JPG') or filename.endswith('.PNG'):\n",
    "            try:\n",
    "                # Image path\n",
    "                img_path = os.path.join(image_dir, filename)\n",
    "                image = cv2.imread(img_path)\n",
    "                if image is None:\n",
    "                    print(f\"Warning: Could not load image {img_path}\")\n",
    "                    continue\n",
    "                image = preprocessing_image(image)\n",
    "                images.append(image)\n",
    "\n",
    "                # Label path (replace image extension with .txt for label file)\n",
    "                label_filename = filename.split('.')[0] + '.txt'\n",
    "                label_path = os.path.join(label_dir, label_filename)\n",
    "                \n",
    "                # Count tomatoes (lines in the label file)\n",
    "                if os.path.exists(label_path):\n",
    "                    with open(label_path, 'r') as f:\n",
    "                        count = sum(1 for line in f if line.strip())  # Count non-empty lines\n",
    "                else:\n",
    "                    print(f\"Warning: Label file {label_path} not found.\")\n",
    "                    count = 0  # Default count if label file is missing\n",
    "\n",
    "                labels.append(count)\n",
    "            except Exception as e:\n",
    "                print(f\"Error processing {filename}: {e}\")\n",
    "\n",
    "    images = np.array(images)\n",
    "    labels = np.array(labels)\n",
    "\n",
    "    print(\"Loaded images shape:\", images.shape)\n",
    "    print(\"Loaded labels (tomato counts) shape:\", labels.shape)\n",
    "    \n",
    "    return images, labels\n",
    "\n",
    "# Load data\n",
    "images, labels = load_images_and_labels(IMAGE_DIR, LABEL_DIR)"
   ]
  },
  {
   "cell_type": "markdown",
   "id": "3ed3a846-49da-4905-a20a-a5e08d393957",
   "metadata": {},
   "source": [
    "# Spilling data into training and testing sets (80% train, 20% tests)\n",
    "\n",
    "In the below cell, the cell splits images and labels list 80-20."
   ]
  },
  {
   "cell_type": "code",
   "execution_count": 37,
   "id": "0a251f2d-284e-41c8-ac68-7a94e7661cbb",
   "metadata": {},
   "outputs": [],
   "source": [
    "split = int(0.8 * len(images))\n",
    "train_images, test_images = images[:split], images[split:]\n",
    "train_labels, test_labels = labels[:split], labels[split:]"
   ]
  },
  {
   "cell_type": "markdown",
   "id": "13ad1fcb-8cb7-499b-ba1c-a03c2a0a55a1",
   "metadata": {},
   "source": [
    "# CNN Model Architecture\n",
    "\n",
    "We now define the architecture of our Convolutional Neural Network (CNN). The CNN consists of:\n",
    "1. **Conv2D Layers**: These layers perform convolution operations, followed by ReLU activation functions to introduce non-linearity.\n",
    "2. **MaxPooling2D Layers**: These layers downsample the feature maps to reduce dimensionality.\n",
    "3. **Flatten Layer**: Flattens the 2D feature maps into a 1D array for the fully connected layers.\n",
    "4. **Dense Layers**: These layers are fully connected layers. The last dense layer has one neuron with a linear activation function to predict the tomato count.\n",
    "\n",
    "The CNN Layer is represented as:\n",
    "$\\text{F} = σ(\\text{I}*\\text{K}+\\text{B})$  $\\text{P} = \\text{Pool}(\\text{F})$\n",
    "\n",
    "## Convolutional Layer\n",
    "The **Convolutional Layer** is a core layer in building a Convolutional Neural Network (CNN). This CNN layer is designed to automatically and adaptively learn spatial hierarchies in an image.\n",
    "The convolutional operation is mathematically represented as:\n",
    "\n",
    "$S(i,j)=(I∗F)(i,j)= m∑​n∑​I(i+m,j+n)⋅F(m,n)$\n",
    "\n",
    "Where,\n",
    "- $S(i,j)$ is the output of the feature map\n",
    "- $I$ is input image\n",
    "- $F$ is the filter (Kernels)\n",
    "- $(i,j)$ represents pixels coordinates\n",
    "- $(m,n)$ represents the area of the filter\n",
    "\n",
    "### Actication Function\n",
    "Here the activation function **ReLU** is used to introduce non-linearity. \n",
    "\n",
    "Mathematical representation of ReLu:\n",
    "$\\text{ReLU}(x) = \\text{max}(0,x)$\n",
    "\n",
    "### Use of this layer\n",
    "Convoltuional layers helps the network to focus on small, local features (edges, textures) without needing the entire image at once. They are key to identifying important patterns in images, making them ideal for computer vision tasks like object detection.\n",
    "\n",
    "## MaxPooling Layer\n",
    "The **MaxPooling Layer** is a down-sampling operation that reduces the spatial dimensions (height and width) of the feature maps. MaxPooling is typically used after convolution layers to reduce the number of parameters, computations, and the potential overfitting of the model.\n",
    "\n",
    "MaxPooling Layer is mathematically represented as:\n",
    "\n",
    "$\\text{MaxPool}(x) = \\max_{i,j \\in p \\times p} (x_{i,j})$.\n",
    "\n",
    "Where,\n",
    "- $x$ is the input matrix\n",
    "- $PxP$ represents pooling window\n",
    "\n",
    "### Use of this layer\n",
    "MaxPooling allows the model to become more invariant to small translations, rotations, and distortions in the image. It also reduces the spatial dimensions, thus reducing computation and making the model more efficient.\n",
    "\n",
    "## Flatten Layer\n",
    "The **Flatten Layer** takes the output from the previous layers (which is typically a 2D or 3D array of values) and reshapes it into a 1D vector. This is done because fully connected layers expect 1D input vectors.\n",
    "\n",
    "For a feature map of size $𝐻×𝑊×𝐷$ the Flatten operation converts it into a vector of size $𝐻×𝑊×𝐷$. Mathematically:\n",
    "\n",
    "$\\text{Flattened Vector} = [X_1, X_2, X_3]$\n",
    "\n",
    "where,\n",
    "- n = $𝐻×𝑊×𝐷$, representing the total number of elements in the flattened vector.\n",
    "\n",
    "### Use of this layer\n",
    "Flattening prepares the extracted features (from the convolution and pooling layers) for input to the fully connected (dense) layers, where decisions or predictions will be made.\n",
    "\n",
    "## Fully Connected Dense Layer\n",
    "The **Fully Connected Dense Layer** (or Dense Layer) takes the flattened output and computes a weighted sum of the inputs, followed by the application of an activation function. \n",
    "\n",
    "The Dense Layer mathematically defined as:\n",
    "\n",
    "$\\text{y} = {W}.x + B$\n",
    "\n",
    "where,\n",
    "- $y$ output vector\n",
    "- $W$ is the weights\n",
    "- $x$ output of the previous layers\n",
    "- $B$ is the bias\n",
    "\n",
    "### Actication Function\n",
    "Here the activation function **ReLU** is used to introduce non-linearity. \n",
    "\n",
    "Mathematical representation of ReLu:\n",
    "$\\text{ReLU}(x) = \\text{max}(0,x)$\n",
    "\n",
    "### Use of this layer\n",
    "Fully connected layers are responsible for combining the features learned by previous layers and making decisions based on these features. For regression tasks, the final layer outputs a continuous value (count of tomatoes), and hence a linear activation function is used.\n",
    "\n",
    "## Output Layer\n",
    "The **output layer** which is again a **Dense Layer** with a single neuron is used to predict the tomato. This output layer uses linear activation function"
   ]
  },
  {
   "cell_type": "code",
   "execution_count": 38,
   "id": "ea36ee87-52cc-4f1e-9cba-97c209a46a16",
   "metadata": {},
   "outputs": [],
   "source": [
    "# CNN model architecture\n",
    "model = tf.keras.Sequential([\n",
    "    tf.keras.layers.Conv2D(32, (3, 3), activation='relu', input_shape=(224, 224, 3)),\n",
    "    tf.keras.layers.MaxPooling2D((2, 2)),\n",
    "    tf.keras.layers.Conv2D(64, (3, 3), activation='relu'),\n",
    "    tf.keras.layers.MaxPooling2D((2, 2)),\n",
    "    tf.keras.layers.Flatten(),\n",
    "    tf.keras.layers.Dense(128, activation='relu'),\n",
    "    tf.keras.layers.Dense(1, activation='linear'),  # Output layer for count prediction\n",
    "])"
   ]
  },
  {
   "cell_type": "markdown",
   "id": "7a5f0908-06bd-48db-8498-74b374c25745",
   "metadata": {},
   "source": [
    "# Compile the Model\n",
    "\n",
    "In this section, we compile the CNN model by specifying:\n",
    "- **Optimizer**: Adam optimizer with a learning rate of 0.001.\n",
    "- **Loss Function**: Mean Squared Error (MSE) because the task is a regression (count prediction).\n",
    "- **Metrics**: Mean Absolute Error (MAE) is used to monitor the model’s performance during training.\n",
    "\n",
    "## Loss Function: Mean Squared Error (MSE):\n",
    "The **Mean Squared Error** is the most commonly used loss function for regression tasks. It computes the average squared difference between the predicted values and the actual values.\n",
    "\n",
    "$ \\text{MSE} = \\frac{1}{N} \\sum_{i=1}^{N} (y_{\\text{true},i} - y_{\\text{pred},i})^2 $\n",
    "\n",
    "where,\n",
    "- $(y_{\\text{true},i})$ is the actual count of tomatoes in the *i*-th image\n",
    "- $y_{\\text{pred},i})$ is the predicted count of tomatoes\n",
    "- *N* is the number of data points in the dataset\n",
    "\n",
    "### Why MSE\n",
    "MSE penalizes larger errors more heavily, which helps the model learn to predict values that are as close as possible to the true values. It is ideal for tasks that involve continuous output values like regression.\n",
    "\n",
    "## Adam Optimizer\n",
    "The **Adam Optimizer** is used to update the weights of the network during training. It combines the benefits of both **AdaGrad** and **RMSProp**.\n",
    "\n",
    "The update rule for ADAM is:\n",
    "$\\theta_t = \\theta_{t-1} - \\eta \\cdot \\frac{\\hat{m}_t}{\\sqrt{\\hat{v}_t} + \\epsilon}$\n",
    "\n",
    "Where,\n",
    "- $\\theta_t$ is the parameter (weights) at the time *t*\n",
    "- $\\eta$ is the learning rate\n",
    "- $\\hat{m}_t$ is the estimate of the first moment (mean)\n",
    "- $\\hat{v}_t$ is the estimate of the second moment (variance)\n",
    "- $\\epsilon$ is a small constant to prevent division by zero"
   ]
  },
  {
   "cell_type": "code",
   "execution_count": 39,
   "id": "cec510ec-4b5a-4d95-a56f-83e36515c6ff",
   "metadata": {},
   "outputs": [],
   "source": [
    "# Compile the model\n",
    "model.compile(optimizer=tf.keras.optimizers.Adam(learning_rate=0.001), \n",
    "              loss='mean_squared_error', \n",
    "              metrics=['mae'])"
   ]
  },
  {
   "cell_type": "markdown",
   "id": "114183e3-24af-4253-8c58-f4bbb624e587",
   "metadata": {},
   "source": [
    "# Train the Model\n",
    "\n",
    "Here, we train the CNN using the training data (`train_images` and `train_labels`). We use 20 epochs and a batch size of 32.\n"
   ]
  },
  {
   "cell_type": "code",
   "execution_count": 40,
   "id": "f0756605-d68b-466f-86bf-0ca84ac88ea1",
   "metadata": {},
   "outputs": [
    {
     "name": "stdout",
     "output_type": "stream",
     "text": [
      "Epoch 1/20\n",
      "\u001b[1m13/13\u001b[0m \u001b[32m━━━━━━━━━━━━━━━━━━━━\u001b[0m\u001b[37m\u001b[0m \u001b[1m5s\u001b[0m 319ms/step - loss: 606.1127 - mae: 18.9035 - val_loss: 59.2165 - val_mae: 6.5001\n",
      "Epoch 2/20\n",
      "\u001b[1m13/13\u001b[0m \u001b[32m━━━━━━━━━━━━━━━━━━━━\u001b[0m\u001b[37m\u001b[0m \u001b[1m4s\u001b[0m 314ms/step - loss: 89.5947 - mae: 7.2653 - val_loss: 59.4320 - val_mae: 6.5254\n",
      "Epoch 3/20\n",
      "\u001b[1m13/13\u001b[0m \u001b[32m━━━━━━━━━━━━━━━━━━━━\u001b[0m\u001b[37m\u001b[0m \u001b[1m4s\u001b[0m 314ms/step - loss: 73.5672 - mae: 6.1997 - val_loss: 46.3389 - val_mae: 5.3611\n",
      "Epoch 4/20\n",
      "\u001b[1m13/13\u001b[0m \u001b[32m━━━━━━━━━━━━━━━━━━━━\u001b[0m\u001b[37m\u001b[0m \u001b[1m4s\u001b[0m 316ms/step - loss: 78.3262 - mae: 5.8936 - val_loss: 39.4124 - val_mae: 4.8284\n",
      "Epoch 5/20\n",
      "\u001b[1m13/13\u001b[0m \u001b[32m━━━━━━━━━━━━━━━━━━━━\u001b[0m\u001b[37m\u001b[0m \u001b[1m4s\u001b[0m 320ms/step - loss: 36.6427 - mae: 4.5621 - val_loss: 58.5355 - val_mae: 6.1321\n",
      "Epoch 6/20\n",
      "\u001b[1m13/13\u001b[0m \u001b[32m━━━━━━━━━━━━━━━━━━━━\u001b[0m\u001b[37m\u001b[0m \u001b[1m4s\u001b[0m 323ms/step - loss: 37.2343 - mae: 4.5000 - val_loss: 34.7880 - val_mae: 4.5294\n",
      "Epoch 7/20\n",
      "\u001b[1m13/13\u001b[0m \u001b[32m━━━━━━━━━━━━━━━━━━━━\u001b[0m\u001b[37m\u001b[0m \u001b[1m4s\u001b[0m 328ms/step - loss: 23.7668 - mae: 3.5791 - val_loss: 33.1304 - val_mae: 4.4730\n",
      "Epoch 8/20\n",
      "\u001b[1m13/13\u001b[0m \u001b[32m━━━━━━━━━━━━━━━━━━━━\u001b[0m\u001b[37m\u001b[0m \u001b[1m4s\u001b[0m 327ms/step - loss: 12.9825 - mae: 2.7429 - val_loss: 33.5902 - val_mae: 4.4690\n",
      "Epoch 9/20\n",
      "\u001b[1m13/13\u001b[0m \u001b[32m━━━━━━━━━━━━━━━━━━━━\u001b[0m\u001b[37m\u001b[0m \u001b[1m4s\u001b[0m 330ms/step - loss: 6.4542 - mae: 1.8627 - val_loss: 37.4886 - val_mae: 4.6976\n",
      "Epoch 10/20\n",
      "\u001b[1m13/13\u001b[0m \u001b[32m━━━━━━━━━━━━━━━━━━━━\u001b[0m\u001b[37m\u001b[0m \u001b[1m4s\u001b[0m 332ms/step - loss: 5.5887 - mae: 1.9034 - val_loss: 32.1236 - val_mae: 4.4038\n",
      "Epoch 11/20\n",
      "\u001b[1m13/13\u001b[0m \u001b[32m━━━━━━━━━━━━━━━━━━━━\u001b[0m\u001b[37m\u001b[0m \u001b[1m4s\u001b[0m 333ms/step - loss: 4.0734 - mae: 1.4429 - val_loss: 30.9875 - val_mae: 4.3363\n",
      "Epoch 12/20\n",
      "\u001b[1m13/13\u001b[0m \u001b[32m━━━━━━━━━━━━━━━━━━━━\u001b[0m\u001b[37m\u001b[0m \u001b[1m4s\u001b[0m 336ms/step - loss: 2.2033 - mae: 1.0703 - val_loss: 31.2982 - val_mae: 4.3608\n",
      "Epoch 13/20\n",
      "\u001b[1m13/13\u001b[0m \u001b[32m━━━━━━━━━━━━━━━━━━━━\u001b[0m\u001b[37m\u001b[0m \u001b[1m4s\u001b[0m 342ms/step - loss: 1.2032 - mae: 0.7763 - val_loss: 31.8531 - val_mae: 4.3865\n",
      "Epoch 14/20\n",
      "\u001b[1m13/13\u001b[0m \u001b[32m━━━━━━━━━━━━━━━━━━━━\u001b[0m\u001b[37m\u001b[0m \u001b[1m4s\u001b[0m 343ms/step - loss: 0.6878 - mae: 0.6052 - val_loss: 31.7211 - val_mae: 4.3678\n",
      "Epoch 15/20\n",
      "\u001b[1m13/13\u001b[0m \u001b[32m━━━━━━━━━━━━━━━━━━━━\u001b[0m\u001b[37m\u001b[0m \u001b[1m4s\u001b[0m 344ms/step - loss: 0.5904 - mae: 0.5324 - val_loss: 32.0945 - val_mae: 4.3954\n",
      "Epoch 16/20\n",
      "\u001b[1m13/13\u001b[0m \u001b[32m━━━━━━━━━━━━━━━━━━━━\u001b[0m\u001b[37m\u001b[0m \u001b[1m5s\u001b[0m 349ms/step - loss: 0.3447 - mae: 0.4161 - val_loss: 31.3058 - val_mae: 4.3633\n",
      "Epoch 17/20\n",
      "\u001b[1m13/13\u001b[0m \u001b[32m━━━━━━━━━━━━━━━━━━━━\u001b[0m\u001b[37m\u001b[0m \u001b[1m5s\u001b[0m 347ms/step - loss: 0.2400 - mae: 0.3286 - val_loss: 31.8646 - val_mae: 4.3813\n",
      "Epoch 18/20\n",
      "\u001b[1m13/13\u001b[0m \u001b[32m━━━━━━━━━━━━━━━━━━━━\u001b[0m\u001b[37m\u001b[0m \u001b[1m5s\u001b[0m 354ms/step - loss: 0.2206 - mae: 0.3295 - val_loss: 32.4610 - val_mae: 4.4087\n",
      "Epoch 19/20\n",
      "\u001b[1m13/13\u001b[0m \u001b[32m━━━━━━━━━━━━━━━━━━━━\u001b[0m\u001b[37m\u001b[0m \u001b[1m5s\u001b[0m 361ms/step - loss: 0.1958 - mae: 0.3302 - val_loss: 32.4273 - val_mae: 4.4022\n",
      "Epoch 20/20\n",
      "\u001b[1m13/13\u001b[0m \u001b[32m━━━━━━━━━━━━━━━━━━━━\u001b[0m\u001b[37m\u001b[0m \u001b[1m5s\u001b[0m 363ms/step - loss: 0.1643 - mae: 0.2859 - val_loss: 31.7588 - val_mae: 4.3799\n"
     ]
    }
   ],
   "source": [
    "history = model.fit(train_images, train_labels, validation_data=(test_images, test_labels),\n",
    "                    epochs=20, batch_size=32)"
   ]
  },
  {
   "cell_type": "markdown",
   "id": "a85fc867-821e-4f45-8373-07fcce27d8a9",
   "metadata": {},
   "source": [
    "# Model Evaluation\n",
    "\n",
    "Once training is complete, we evaluate the model’s performance on the testing set using:\n",
    "- **Test MAE**: Mean Absolute Error on the test set.\n",
    "- **RMSE**: Root Mean Squared Error between predicted and actual counts, to quantify the model’s error.\n"
   ]
  },
  {
   "cell_type": "code",
   "execution_count": 41,
   "id": "f97de316-d6fe-417f-af56-0acf12f922d8",
   "metadata": {
    "scrolled": true
   },
   "outputs": [
    {
     "name": "stdout",
     "output_type": "stream",
     "text": [
      "\u001b[1m4/4\u001b[0m \u001b[32m━━━━━━━━━━━━━━━━━━━━\u001b[0m\u001b[37m\u001b[0m \u001b[1m0s\u001b[0m 69ms/step - loss: 30.4735 - mae: 4.2576\n",
      "\u001b[1m4/4\u001b[0m \u001b[32m━━━━━━━━━━━━━━━━━━━━\u001b[0m\u001b[37m\u001b[0m \u001b[1m0s\u001b[0m 71ms/step\n",
      "Test MAE: 4.379888534545898\n",
      "RMSE: 10.31075763707318\n",
      "Traning Loss: [387.66998291015625, 98.37688446044922, 76.74175262451172, 60.529273986816406, 40.23836135864258, 32.578861236572266, 21.79975700378418, 12.22260856628418, 7.184514045715332, 5.301908493041992, 3.277301549911499, 1.975650668144226, 1.2035231590270996, 0.7640159130096436, 0.5434426069259644, 0.36863869428634644, 0.26260045170783997, 0.21368050575256348, 0.19989551603794098, 0.1857776939868927]\n",
      "Validation Loss: [59.21653747558594, 59.4320068359375, 46.338924407958984, 39.412410736083984, 58.53549575805664, 34.78800582885742, 33.13043975830078, 33.590232849121094, 37.48861312866211, 32.12357711791992, 30.987520217895508, 31.298227310180664, 31.853105545043945, 31.721149444580078, 32.094459533691406, 31.30583381652832, 31.864614486694336, 32.46099853515625, 32.42734146118164, 31.758777618408203]\n"
     ]
    }
   ],
   "source": [
    "# Evaluate the model\n",
    "test_loss, test_mae = model.evaluate(test_images, test_labels)\n",
    "predictions = model.predict(test_images)\n",
    "rmse = np.sqrt(np.mean((predictions - test_labels) ** 2))\n",
    "\n",
    "# Print evaluation results\n",
    "print(f\"Test MAE: {test_mae}\")\n",
    "print(f\"RMSE: {rmse}\")\n",
    "print(f'Traning Loss: {history.history['loss']}')\n",
    "print(f'Validation Loss: {history.history['val_loss']}')"
   ]
  },
  {
   "cell_type": "markdown",
   "id": "03283f39-37ef-455c-b61e-dbccd1072110",
   "metadata": {},
   "source": [
    "# Visualizations\n",
    "\n",
    "In this section, we visualize the training and validation loss over epochs, as well as the comparison between actual and predicted tomato counts.\n",
    "\n",
    "- **Loss curves**: We plot the training and validation loss to monitor the model’s learning process.\n",
    "- **Scatter plot**: A scatter plot of the actual vs predicted counts to visualize how well the model is performing.\n"
   ]
  },
  {
   "cell_type": "code",
   "execution_count": 42,
   "id": "b4b4c646-7a07-404a-bd64-b8c8c9fbe0de",
   "metadata": {},
   "outputs": [
    {
     "data": {
      "image/png": "[encoded data removed]",
      "text/plain": [
       "<Figure size 640x480 with 1 Axes>"
      ]
     },
     "metadata": {},
     "output_type": "display_data"
    },
    {
     "data": {
      "image/png": "[encoded data removed]",
      "text/plain": [
       "<Figure size 640x480 with 1 Axes>"
      ]
     },
     "metadata": {},
     "output_type": "display_data"
    }
   ],
   "source": [
    "# Visualizations\n",
    "# Plot the training and validation loss\n",
    "plt.plot(history.history['loss'], label='Training Loss')\n",
    "plt.plot(history.history['val_loss'], label='Validation Loss')\n",
    "plt.xlabel('Epoch')\n",
    "plt.ylabel('Loss')\n",
    "plt.legend()\n",
    "plt.show()\n",
    "\n",
    "# Scatter plot of actual vs predicted counts\n",
    "plt.scatter(test_labels, predictions)\n",
    "plt.xlabel('Actual Count')\n",
    "plt.ylabel('Predicted Count')\n",
    "plt.show()"
   ]
  },
  {
   "cell_type": "markdown",
   "id": "a8345ea0-b975-4601-b68d-237794537389",
   "metadata": {
    "jp-MarkdownHeadingCollapsed": true
   },
   "source": [
    "# Model Result\n",
    "\n",
    "### Test MAE (Mean Absolute Error)\n",
    "The MAE is around 4.38 which is a bit off but relatively good depending on the scale of target variable.\n",
    "\n",
    "### Test RMSE (Root Mean Square Error)\n",
    "The RMSE gives a sense of how much error there is between the model's prediction and actual outcomes. A higher RMSE suggests larger errors, while a lower value suggests that the model is doing better. 10.31 indicates moderate error in the model's predictions, with outliers having a larger influence on the RMSE.\n",
    "\n",
    "### Training loss\n",
    "The training loss is steadily decreasing, starting from 387.67 and gradually approaching values close to zero. This shows that the model is effectively learning from the data and is improving its predictions over time.\n",
    "\n",
    "### Validation Loss\n",
    "The validation loss fluctuates between 30 and 59, but it doesn't show a consistent decrease as the training loss does.\n",
    "Which could mean,\n",
    "\n",
    "- **Overfitting:** The model is learning well on the training set, but it might not generalize well to unseen data. The gap between training and validation loss is an indicator of this."
   ]
  }
 ],
 "metadata": {
  "kernelspec": {
   "display_name": "Python 3 (ipykernel)",
   "language": "python",
   "name": "python3"
  },
  "language_info": {
   "codemirror_mode": {
    "name": "ipython",
    "version": 3
   },
   "file_extension": ".py",
   "mimetype": "text/x-python",
   "name": "python",
   "nbconvert_exporter": "python",
   "pygments_lexer": "ipython3",
   "version": "3.12.5"
  }
 },
 "nbformat": 4,
 "nbformat_minor": 5
}
